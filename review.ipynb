{
 "cells": [
  {
   "cell_type": "markdown",
   "id": "8a77807f92f26ee",
   "metadata": {},
   "source": [
    "\n",
    "ICS33 Review Session - 2024 Fall --Lorraine Luo\n",
    "(FOR STUDY PURPOSE ONLY)\n",
    "\n",
    "How to use: try, run, and understand the code; answer the question by yourself\n",
    "ask chatgpt for help for sure but only after you check these questions first\n",
    "\n",
    "#Scope\n",
    "what is scope?\n",
    "could you specify between local scope and global scope?"
   ]
  },
  {
   "cell_type": "code",
   "execution_count": 1,
   "id": "fbc121e30a2defb3",
   "metadata": {
    "ExecuteTime": {
     "end_time": "2024-12-05T07:29:56.638933Z",
     "start_time": "2024-12-05T07:29:56.633343Z"
    }
   },
   "outputs": [
    {
     "data": {
      "text/plain": [
       "['In',\n",
       " 'Out',\n",
       " '_',\n",
       " '__',\n",
       " '___',\n",
       " '__builtin__',\n",
       " '__builtins__',\n",
       " '__doc__',\n",
       " '__loader__',\n",
       " '__name__',\n",
       " '__package__',\n",
       " '__spec__',\n",
       " '__vsc_ipynb_file__',\n",
       " '_dh',\n",
       " '_i',\n",
       " '_i1',\n",
       " '_ih',\n",
       " '_ii',\n",
       " '_iii',\n",
       " '_oh',\n",
       " 'exit',\n",
       " 'get_ipython',\n",
       " 'open',\n",
       " 'quit']"
      ]
     },
     "execution_count": 1,
     "metadata": {},
     "output_type": "execute_result"
    }
   ],
   "source": [
    "dir()\n"
   ]
  },
  {
   "cell_type": "code",
   "execution_count": 2,
   "id": "23bfe63cf1d2838b",
   "metadata": {},
   "outputs": [
    {
     "data": {
      "text/plain": [
       "['In',\n",
       " 'Out',\n",
       " '_',\n",
       " '_1',\n",
       " '__',\n",
       " '___',\n",
       " '__builtin__',\n",
       " '__builtins__',\n",
       " '__doc__',\n",
       " '__loader__',\n",
       " '__name__',\n",
       " '__package__',\n",
       " '__spec__',\n",
       " '__vsc_ipynb_file__',\n",
       " '_dh',\n",
       " '_i',\n",
       " '_i1',\n",
       " '_i2',\n",
       " '_ih',\n",
       " '_ii',\n",
       " '_iii',\n",
       " '_oh',\n",
       " 'exit',\n",
       " 'get_ipython',\n",
       " 'open',\n",
       " 'quit',\n",
       " 'x']"
      ]
     },
     "execution_count": 2,
     "metadata": {},
     "output_type": "execute_result"
    }
   ],
   "source": [
    "x=3\n",
    "dir()"
   ]
  },
  {
   "cell_type": "code",
   "execution_count": 3,
   "id": "e446e347ff9325df",
   "metadata": {},
   "outputs": [
    {
     "data": {
      "text/plain": [
       "['In',\n",
       " 'Out',\n",
       " '_',\n",
       " '_1',\n",
       " '_2',\n",
       " '__',\n",
       " '___',\n",
       " '__builtin__',\n",
       " '__builtins__',\n",
       " '__doc__',\n",
       " '__loader__',\n",
       " '__name__',\n",
       " '__package__',\n",
       " '__spec__',\n",
       " '__vsc_ipynb_file__',\n",
       " '_dh',\n",
       " '_i',\n",
       " '_i1',\n",
       " '_i2',\n",
       " '_i3',\n",
       " '_ih',\n",
       " '_ii',\n",
       " '_iii',\n",
       " '_oh',\n",
       " 'exit',\n",
       " 'get_ipython',\n",
       " 'open',\n",
       " 'quit',\n",
       " 'square',\n",
       " 'x']"
      ]
     },
     "execution_count": 3,
     "metadata": {},
     "output_type": "execute_result"
    }
   ],
   "source": [
    "def square(n):\n",
    "    return n*n\n",
    "dir()"
   ]
  },
  {
   "cell_type": "markdown",
   "id": "41136f74f17ed246",
   "metadata": {},
   "source": [
    "这是很好的例子解释local/global scope -》 absolute/relative\n",
    "global 是绝对的， local则为相对"
   ]
  },
  {
   "cell_type": "code",
   "execution_count": 4,
   "id": "dfe4e658c4fe77ba",
   "metadata": {},
   "outputs": [
    {
     "name": "stdout",
     "output_type": "stream",
     "text": [
      "In example module\n",
      "  globals: ['In', 'Out', '_', '_1', '_2', '_3', '__', '___', '__builtin__', '__builtins__', '__doc__', '__loader__', '__name__', '__package__', '__spec__', '__vsc_ipynb_file__', '_dh', '_i', '_i1', '_i2', '_i3', '_i4', '_ih', '_ii', '_iii', '_oh', 'exit', 'get_ipython', 'open', 'quit', 'square', 'x']\n",
      "   locals: ['In', 'Out', '_', '_1', '_2', '_3', '__', '___', '__builtin__', '__builtins__', '__doc__', '__loader__', '__name__', '__package__', '__spec__', '__vsc_ipynb_file__', '_dh', '_i', '_i1', '_i2', '_i3', '_i4', '_ih', '_ii', '_iii', '_oh', 'exit', 'get_ipython', 'open', 'quit', 'square', 'x']\n",
      "Preparing to call foo function\n",
      "  globals: ['In', 'Out', '_', '_1', '_2', '_3', '__', '___', '__builtin__', '__builtins__', '__doc__', '__loader__', '__name__', '__package__', '__spec__', '__vsc_ipynb_file__', '_dh', '_i', '_i1', '_i2', '_i3', '_i4', '_ih', '_ii', '_iii', '_oh', 'exit', 'foo', 'get_ipython', 'open', 'quit', 'square', 'x']\n",
      "   locals: ['In', 'Out', '_', '_1', '_2', '_3', '__', '___', '__builtin__', '__builtins__', '__doc__', '__loader__', '__name__', '__package__', '__spec__', '__vsc_ipynb_file__', '_dh', '_i', '_i1', '_i2', '_i3', '_i4', '_ih', '_ii', '_iii', '_oh', 'exit', 'foo', 'get_ipython', 'open', 'quit', 'square', 'x']\n",
      "Calling foo function\n",
      "In foo function\n",
      "  globals: ['In', 'Out', '_', '_1', '_2', '_3', '__', '___', '__builtin__', '__builtins__', '__doc__', '__loader__', '__name__', '__package__', '__spec__', '__vsc_ipynb_file__', '_dh', '_i', '_i1', '_i2', '_i3', '_i4', '_ih', '_ii', '_iii', '_oh', 'exit', 'foo', 'get_ipython', 'open', 'quit', 'square', 'x']\n",
      "   locals: ['bar', 'n']\n",
      "In bar function\n",
      "  globals: ['In', 'Out', '_', '_1', '_2', '_3', '__', '___', '__builtin__', '__builtins__', '__doc__', '__loader__', '__name__', '__package__', '__spec__', '__vsc_ipynb_file__', '_dh', '_i', '_i1', '_i2', '_i3', '_i4', '_ih', '_ii', '_iii', '_oh', 'exit', 'foo', 'get_ipython', 'open', 'quit', 'square', 'x']\n",
      "   locals: ['m', 'n']\n",
      "foo function returned 6\n"
     ]
    }
   ],
   "source": [
    "print('In example module')\n",
    "print(f'  globals: {sorted(globals().keys())}')\n",
    "print(f'   locals: {sorted(locals().keys())}')\n",
    "\n",
    "\n",
    "def foo(n):\n",
    "    def bar(m):\n",
    "        print('In bar function')\n",
    "        print(f'  globals: {sorted(globals().keys())}')\n",
    "        print(f'   locals: {sorted(locals().keys())}')\n",
    "        return n + m\n",
    "\n",
    "    print('In foo function')\n",
    "    print(f'  globals: {sorted(globals().keys())}')\n",
    "    print(f'   locals: {sorted(locals().keys())}')\n",
    "    return bar(4)\n",
    "\n",
    "\n",
    "print('Preparing to call foo function')\n",
    "print(f'  globals: {sorted(globals().keys())}')\n",
    "print(f'   locals: {sorted(locals().keys())}')\n",
    "print('Calling foo function')\n",
    "print(f'foo function returned {foo(2)}')"
   ]
  },
  {
   "cell_type": "markdown",
   "id": "c242ea63717d5fb2",
   "metadata": {},
   "source": [
    "#LEGB\n",
    "#Module"
   ]
  },
  {
   "cell_type": "code",
   "execution_count": 5,
   "id": "fd4f413f0a92f0a5",
   "metadata": {},
   "outputs": [
    {
     "data": {
      "text/plain": [
       "['In',\n",
       " 'Out',\n",
       " '_',\n",
       " '_1',\n",
       " '_2',\n",
       " '_3',\n",
       " '__',\n",
       " '___',\n",
       " '__builtin__',\n",
       " '__builtins__',\n",
       " '__doc__',\n",
       " '__loader__',\n",
       " '__name__',\n",
       " '__package__',\n",
       " '__spec__',\n",
       " '__vsc_ipynb_file__',\n",
       " '_dh',\n",
       " '_i',\n",
       " '_i1',\n",
       " '_i2',\n",
       " '_i3',\n",
       " '_i4',\n",
       " '_i5',\n",
       " '_ih',\n",
       " '_ii',\n",
       " '_iii',\n",
       " '_oh',\n",
       " 'exit',\n",
       " 'foo',\n",
       " 'get_ipython',\n",
       " 'math',\n",
       " 'open',\n",
       " 'quit',\n",
       " 'square',\n",
       " 'x']"
      ]
     },
     "execution_count": 5,
     "metadata": {},
     "output_type": "execute_result"
    }
   ],
   "source": [
    "import math\n",
    "import math\n",
    "dir()"
   ]
  },
  {
   "cell_type": "markdown",
   "id": "ee2337672fda849",
   "metadata": {},
   "source": [
    "#CLASS\n",
    "OOP中最重要的概念：Encapsulation/Inheritance/Polymorphism/Abstraction\n",
    "实际上也是33的全部内容，中译中：\n",
    "你代码多了你怎么保护你的敏感内容？\n",
    "不想写重复的代码能不能少写点？\n",
    "感觉长得差不多能不能归类少写点？\n",
    "给个蓝图呗姐，不给蓝图没想法，不会写"
   ]
  },
  {
   "cell_type": "code",
   "execution_count": null,
   "id": "25222ce20cd3f8ee",
   "metadata": {},
   "outputs": [],
   "source": [
    "class Person:\n",
    "    MAX_NAME_LENGTH = 30#属于class本身，你创建或不创建都有这个属性 called class variable\n",
    "\n",
    "    def __init__(self, name, age):#当每次创建一个object时默认调用init\n",
    "        #instance attribute 你创了才有\n",
    "        self.name = name[:self.MAX_NAME_LENGTH]\n",
    "        self.age = max(0, age)\n",
    "    \n",
    "    def __name__(self):\n",
    "        return \"Person_class\"\n",
    "\n",
    "\n",
    "    def describe(self):#method\n",
    "        return f'{self.name}, age {self.age}'"
   ]
  },
  {
   "cell_type": "code",
   "execution_count": 7,
   "id": "c5b5577eedae4d1e",
   "metadata": {
    "ExecuteTime": {
     "end_time": "2024-12-05T07:49:00.511906Z",
     "start_time": "2024-12-05T07:49:00.507626Z"
    }
   },
   "outputs": [
    {
     "data": {
      "text/plain": [
       "11"
      ]
     },
     "execution_count": 7,
     "metadata": {},
     "output_type": "execute_result"
    }
   ],
   "source": [
    "class XYZ:\n",
    "    value = 11\n",
    "    def __init__(self):\n",
    "        self.value=17\n",
    "    \n",
    "obj=XYZ()\n",
    "#纯靠同一个名字试图混淆概念\n",
    "#obj.value\n",
    "XYZ.value"
   ]
  },
  {
   "cell_type": "markdown",
   "id": "ce8564a5643d49a9",
   "metadata": {},
   "source": [
    "A static method is a method that does not implicitly receive a reference to the class (cls) or an instance (self) as its first parameter.\n",
    "\n",
    "A class method is a method that receives a reference to the class (cls) as its first parameter.\n"
   ]
  },
  {
   "cell_type": "code",
   "execution_count": null,
   "id": "77c912d3a5b17088",
   "metadata": {},
   "outputs": [],
   "source": [
    "class MathUtils:\n",
    "    @staticmethod\n",
    "    def add(a, b):\n",
    "        return a + b"
   ]
  },
  {
   "cell_type": "code",
   "execution_count": null,
   "id": "4e0471f2a5476054",
   "metadata": {},
   "outputs": [],
   "source": [
    "class Person:\n",
    "    population = 0\n",
    "\n",
    "    def __init__(self, name):\n",
    "        self.name = name\n",
    "        Person.population += 1\n",
    "\n",
    "    @classmethod\n",
    "    def get_population(cls):\n",
    "        return cls.population"
   ]
  },
  {
   "cell_type": "markdown",
   "id": "c2d301f1bc6e0ba2",
   "metadata": {},
   "source": [
    "#Function and their parameter\n",
    "建议把相关作业重做一下，会考\n",
    "*\n",
    "**\n",
    "\n",
    "\n",
    "1.顺序\n"
   ]
  },
  {
   "cell_type": "code",
   "execution_count": 8,
   "id": "e34a13f7d9cf61ce",
   "metadata": {},
   "outputs": [
    {
     "data": {
      "text/plain": [
       "-11"
      ]
     },
     "execution_count": 8,
     "metadata": {},
     "output_type": "execute_result"
    }
   ],
   "source": [
    "def subtract(a, b):\n",
    "    return a - b\n",
    "subtract(18,7)\n",
    "subtract(a=18,b=7)\n",
    "subtract(b=18,a=7)"
   ]
  },
  {
   "cell_type": "markdown",
   "id": "b2f16945e18dc32e",
   "metadata": {},
   "source": [
    "2. Positional argument"
   ]
  },
  {
   "cell_type": "code",
   "execution_count": null,
   "id": "cff7e60025a7c576",
   "metadata": {
    "ExecuteTime": {
     "end_time": "2024-12-05T07:54:36.746753Z",
     "start_time": "2024-12-05T07:54:36.743178Z"
    }
   },
   "outputs": [
    {
     "data": {
      "text/plain": [
       "1"
      ]
     },
     "execution_count": 10,
     "metadata": {},
     "output_type": "execute_result"
    }
   ],
   "source": [
    "def subtract(a, b):\n",
    "    return a - b\n",
    "too_many = [6, 1, 17]\n",
    "too_few = [11]\n",
    "\n",
    "subtract(*too_few, 10)\n",
    "subtract(18, *too_few)"
   ]
  },
  {
   "cell_type": "markdown",
   "id": "ea6b1faa6874afbf",
   "metadata": {},
   "source": [
    "Dictionary也可以哦，一样的\n",
    "但是请注意\n"
   ]
  },
  {
   "cell_type": "code",
   "execution_count": null,
   "id": "311ed2d7be533fd0",
   "metadata": {},
   "outputs": [],
   "source": [
    "def subtract(x, y):\n",
    "    return x - y\n",
    "subtract(**{'n': 3}, 8)#positional argument follows keyword argument unpacking"
   ]
  },
  {
   "cell_type": "code",
   "execution_count": null,
   "id": "b12b02fc6452810a",
   "metadata": {},
   "outputs": [],
   "source": [
    "subtract(**{'a': 3, 'b': 8})#not work (a,b)\n",
    "subtract(**{'x': 3, 'y': 8})#this work (x,y) 或许你无意中已经告诉interpreter x/y"
   ]
  },
  {
   "cell_type": "markdown",
   "id": "7751818b562a8d81",
   "metadata": {},
   "source": [
    "Default argument/Accepting a variable number of arguments\n",
    "\n",
    "The special notation * can be used in a parameter list to indicate that you're switching from parameters that can be matched positionally to parameters that can only be matched via keyword."
   ]
  },
  {
   "cell_type": "code",
   "execution_count": null,
   "id": "97c867d2803fee0c",
   "metadata": {},
   "outputs": [],
   "source": [
    "def subtract(n, m, /, minimum = None):\n",
    "    difference = n - m\n",
    "    if minimum is not None:\n",
    "        difference = max(difference, minimum)\n",
    "    return difference"
   ]
  },
  {
   "cell_type": "code",
   "execution_count": null,
   "id": "952bc1c29ada123",
   "metadata": {},
   "outputs": [],
   "source": [
    "def subtract(n, m, *, minimum = None):\n",
    "    difference = n - m\n",
    "    if minimum is not None:\n",
    "        difference = max(difference, minimum)\n",
    "    return difference\n",
    "subtract(11, 7, 0)#you're switching from parameters that can be matched positionally to parameters that can only be matched via keyword"
   ]
  },
  {
   "cell_type": "markdown",
   "id": "6e90220381ad2d52",
   "metadata": {},
   "source": [
    "If we list a / among a function's parameters, it indicates a transition from positional-only parameters and those that might be filled in some other way. To the left of the /, all parameters become positional-only; to the right of the /, they might be positional or keyword."
   ]
  },
  {
   "cell_type": "markdown",
   "id": "38ac019184a4ff63",
   "metadata": {},
   "source": [
    "Dictionary-packing parameters 差不多\n",
    "\n"
   ]
  },
  {
   "cell_type": "markdown",
   "id": "6f35246efe42d102",
   "metadata": {},
   "source": [
    "Context Manager \n",
    "-CS存在的意义之一就是省事，不想重复打工（结果还是当牛马哈哈\n",
    "-意义就是懒得特意关上门，所以设计自动门 which is context manager\n",
    "（但是如果你不关门会怎样？大多数时候不会怎样，其他底层设计会帮你关。。。"
   ]
  },
  {
   "cell_type": "code",
   "execution_count": 11,
   "id": "ac31fc73c5bbb17",
   "metadata": {},
   "outputs": [
    {
     "name": "stdout",
     "output_type": "stream",
     "text": [
      "Initializing\n",
      "Entering\n",
      "In with statement\n",
      "Exiting because of an exception of type ValueError\n"
     ]
    },
    {
     "ename": "ValueError",
     "evalue": "This is not cool",
     "output_type": "error",
     "traceback": [
      "\u001b[1;31m---------------------------------------------------------------------------\u001b[0m",
      "\u001b[1;31mValueError\u001b[0m                                Traceback (most recent call last)",
      "Cell \u001b[1;32mIn[11], line 21\u001b[0m\n\u001b[0;32m     19\u001b[0m \u001b[38;5;28;01mwith\u001b[39;00m ExampleContextManager(\u001b[38;5;241m13\u001b[39m) \u001b[38;5;28;01mas\u001b[39;00m context:\n\u001b[0;32m     20\u001b[0m     \u001b[38;5;28mprint\u001b[39m(\u001b[38;5;124m'\u001b[39m\u001b[38;5;124mIn with statement\u001b[39m\u001b[38;5;124m'\u001b[39m)\n\u001b[1;32m---> 21\u001b[0m     \u001b[38;5;28;01mraise\u001b[39;00m \u001b[38;5;167;01mValueError\u001b[39;00m(\u001b[38;5;124m'\u001b[39m\u001b[38;5;124mThis is not cool\u001b[39m\u001b[38;5;124m'\u001b[39m)\n\u001b[0;32m     22\u001b[0m     \u001b[38;5;28mprint\u001b[39m(\u001b[38;5;124m'\u001b[39m\u001b[38;5;124mStill in with statement\u001b[39m\u001b[38;5;124m'\u001b[39m)\u001b[38;5;66;03m#unreachable\u001b[39;00m\n",
      "\u001b[1;31mValueError\u001b[0m: This is not cool"
     ]
    }
   ],
   "source": [
    "class ExampleContextManager:\n",
    "    def __init__(self, value):\n",
    "        print('Initializing')\n",
    "        self.value = value\n",
    "\n",
    "\n",
    "    def __enter__(self):\n",
    "        print('Entering')\n",
    "        return self\n",
    "\n",
    "\n",
    "    def __exit__(self, exc_type, exc_value, exc_traceback):\n",
    "        if exc_type is None:\n",
    "            reason = 'normally'\n",
    "        else:\n",
    "            reason = f'because of an exception of type {exc_type.__name__}'\n",
    "\n",
    "        print(f'Exiting {reason}')\n",
    "with ExampleContextManager(13) as context:\n",
    "    print('In with statement')\n",
    "    raise ValueError('This is not cool')\n",
    "    print('Still in with statement')#unreachable"
   ]
  },
  {
   "cell_type": "markdown",
   "id": "d0b63b0aed79635c",
   "metadata": {},
   "source": [
    "#Asymptotic Analysis\n",
    "非常有意思的一个部分，也是后续算法核心课程\n",
    "简单来说你要知道Big O\n",
    "what is Big O? Upper boundary of your complexity function\n",
    "your expectation never goes beyond your big O\n",
    "\n",
    "O(1/2n^2+3n+4) -> O(n^2)\n",
    "O(10000000000) -> O(1)\n",
    "\n"
   ]
  },
  {
   "cell_type": "markdown",
   "id": "db4c7acd13e441d2",
   "metadata": {},
   "source": []
  },
  {
   "cell_type": "code",
   "execution_count": null,
   "id": "3f319cb1cc92c23f",
   "metadata": {},
   "outputs": [],
   "source": [
    "#Sequencial Search Time: O(n)/Space: O(1)\n",
    "def  sequencial_search(items:list, key:object):\n",
    "    #return 0\n",
    "    for ele in items:\n",
    "        if ele==key:\n",
    "            return True\n",
    "    return False"
   ]
  },
  {
   "cell_type": "code",
   "execution_count": null,
   "id": "a6dba9460c8d5f68",
   "metadata": {},
   "outputs": [],
   "source": [
    "#Binary Search Time: O(logn)/Space: O(1) n elements->n/2 elements -> n/4....\n",
    "def binary_search(arr, target):\n",
    "    left, right = 0, len(arr) - 1\n",
    "\n",
    "    while left <= right:\n",
    "        mid = left + (right - left) // 2 \n",
    "\n",
    "    \n",
    "        if arr[mid] == target:\n",
    "            return mid \n",
    "\n",
    "     \n",
    "        if arr[mid] < target:\n",
    "            left = mid + 1\n",
    "        else:\n",
    "            right = mid - 1\n",
    "\n",
    "    return -1"
   ]
  },
  {
   "cell_type": "markdown",
   "id": "b46aec0b5039cd0f",
   "metadata": {},
   "source": [
    "logn 会比n快很多很多\n",
    "n^2会比nlogn慢很多很多很多"
   ]
  },
  {
   "cell_type": "markdown",
   "id": "613ecd2bfb3ab448",
   "metadata": {},
   "source": [
    "Database(SQL)必考，1-2大题，15分?手写sql，背一下这种\n",
    "insert?select?orderby?update?\n",
    "\n",
    "\n",
    "create table?foreign key/primary key\n",
    "inner join"
   ]
  },
  {
   "cell_type": "code",
   "execution_count": null,
   "id": "5137868c11b8f151",
   "metadata": {},
   "outputs": [],
   "source": [
    "CREATE TABLE person(\n",
    "    person_id INTEGER PRIMARY KEY,\n",
    "    name TEXT,\n",
    "    age INTEGER\n",
    ") STRICT;"
   ]
  },
  {
   "cell_type": "markdown",
   "id": "7eb3d73f9c8acd",
   "metadata": {},
   "source": [
    "*connection.execute(）这种不用背"
   ]
  },
  {
   "cell_type": "markdown",
   "id": "f17336871aac1319",
   "metadata": {},
   "source": [
    "List/Set/Dictionary Comprehension（应知应会）\n",
    "\n",
    "如果让你写一个iterable的class，你会怎么写呢？"
   ]
  },
  {
   "cell_type": "code",
   "execution_count": null,
   "id": "49933b8e",
   "metadata": {},
   "outputs": [],
   "source": [
    "class IntSequence:\n",
    "    def __init__(self, start, end):\n",
    "        self._start = start\n",
    "        self._end = end\n",
    "        self._current = start\n",
    "\n",
    "\n",
    "    def __iter__(self):\n",
    "        return self\n",
    "\n",
    "\n",
    "    def __next__(self):\n",
    "        if self._current >= self._end:\n",
    "            raise StopIteration\n",
    "        else:\n",
    "            result = self._current\n",
    "            self._current += 1\n",
    "            return result"
   ]
  },
  {
   "cell_type": "markdown",
   "id": "c28e19dd",
   "metadata": {},
   "source": [
    "Inheritence 重点（！！！）\n",
    "1.*the order of construction\n",
    "2.*the order of destruction\n",
    "3.mro\n",
    "\n",
    "Examples\n",
    "given： p1->p2>p3->Child\n",
    "\n",
    "obj = Child() 1...C\n",
    "destruct obj  C...1\n",
    "\n",
    "\n",
    "\n",
    "Examples\n",
    "  Parent\n",
    "    /   \\\n",
    "   /     \\\n",
    "Left    Right\n",
    "   \\     /\n",
    "    \\   /\n",
    "    Child\n",
    "\n",
    "The MRO is:\n",
    "\n",
    "Child\n",
    "Left\n",
    "Right\n",
    "Parent"
   ]
  },
  {
   "cell_type": "code",
   "execution_count": null,
   "id": "69ac142c",
   "metadata": {},
   "outputs": [],
   "source": [
    "#如果实在不会写一下框架吧（参考dunder method）\n",
    "class IterClass():\n",
    "    def __init__(self):\n",
    "        pass\n",
    "\n",
    "    def __iter__():\n",
    "        ...\n",
    "    \n",
    "    def __next__():\n",
    "        ..."
   ]
  },
  {
   "cell_type": "markdown",
   "id": "3f04fb4f",
   "metadata": {},
   "source": [
    "Dunder mathod：\n",
    "\n",
    "\n",
    "sample question：\n",
    "build a number class class \"numberer\" that can be compared, can be performed math calculation like add and mimnus\n",
    "\n",
    "如果不清楚请写注释。。。\n",
    "# i assume here......\n",
    "\n",
    "\n",
    "总题目/题型（或许或许或许，不担保，但如果我出会怎么考\n",
    "\n",
    "1/0 short question\n",
    "2 mutiple choice\n",
    "time/space compexity\n",
    "3 coding （could be iterator/dunder method/context manager\\recursion/lambda)\n",
    "2 sql\n"
   ]
  }
 ],
 "metadata": {
  "kernelspec": {
   "display_name": "Python 3",
   "language": "python",
   "name": "python3"
  },
  "language_info": {
   "codemirror_mode": {
    "name": "ipython",
    "version": 3
   },
   "file_extension": ".py",
   "mimetype": "text/x-python",
   "name": "python",
   "nbconvert_exporter": "python",
   "pygments_lexer": "ipython3",
   "version": "3.12.3"
  }
 },
 "nbformat": 4,
 "nbformat_minor": 5
}
